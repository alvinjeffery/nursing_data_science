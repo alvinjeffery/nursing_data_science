{
 "cells": [
  {
   "cell_type": "markdown",
   "metadata": {},
   "source": [
    "Much of this content can be attributed to the work of Chris Fonnesbeck with source data found at: https://github.com/fonnesbeck/Bios8366"
   ]
  },
  {
   "cell_type": "markdown",
   "metadata": {
    "slideshow": {
     "slide_type": "-"
    }
   },
   "source": [
    "# Introduction to `Scikit-learn`\n",
    "\n",
    "The `scikit-learn` package is an open-source library that provides a robust set of machine learning algorithms for Python. It is built upon the core Python scientific stack (*i.e.* NumPy, SciPy, Cython), and has a simple, consistent API, making it useful for a wide range of statistical learning applications.\n",
    "\n",
    "<img src=\"http://1.bp.blogspot.com/-ME24ePzpzIM/UQLWTwurfXI/AAAAAAAAANw/W3EETIroA80/s1600/drop_shadows_background.png\" width=\"800px\"/>\n",
    "\n",
    "## What is Machine Learning?\n",
    "\n",
    "Machine Learning (ML) is about coding programs that automatically adjust their performance from exposure to information encoded in data. This learning is achieved via **tunable parameters** that are automatically adjusted according to performance criteria.\n",
    "\n",
    "Machine Learning can be considered a subfield of Artificial Intelligence (AI).\n",
    "\n",
    "There are three major classes of ML:\n",
    "\n",
    "**Supervised learning**\n",
    ": Algorithms which learn from a training set of *labeled* examples (exemplars) to generalize to the set of all possible inputs. Examples of supervised learning include regression and support vector machines.\n",
    "\n",
    "**Unsupervised learning**\n",
    ": Algorithms which learn from a training set of *unlableled* examples, using the features of the inputs to categorize inputs together according to some statistical criteria. Examples of unsupervised learning include k-means clustering and kernel density estimation.\n",
    "\n",
    "**Reinforcement learning**\n",
    ": Algorithms that learn via reinforcement from a *critic* that provides information on the quality of a solution, but not on how to improve it. Improved solutions are achieved by iteratively exploring the solution space.  \n",
    "\n",
    "## Representing Data in `scikit-learn`\n",
    "\n",
    "Most machine learning algorithms implemented in scikit-learn expect data to be stored in a\n",
    "**two-dimensional array or matrix**.  The arrays can be\n",
    "either ``numpy`` arrays, or in some cases ``scipy.sparse`` matrices.\n",
    "The size of the array is expected to be `[n_samples, n_features]`\n",
    "\n",
    "- **n_samples:**   The number of samples: each sample is an item to process (e.g. classify).\n",
    "  A sample can be a document, a picture, a sound, a video, an astronomical object,\n",
    "  a row in database or CSV file,\n",
    "  or whatever you can describe with a fixed set of quantitative traits.\n",
    "- **n_features:**  The number of features or distinct traits that can be used to describe each\n",
    "  item in a quantitative manner.  Features are generally real-valued, but may be boolean or\n",
    "  discrete-valued in some cases.\n",
    "\n",
    "The number of features must be fixed in advance. However it can be very high dimensional\n",
    "(e.g. millions of features) with most of them being zeros for a given sample. This is a case\n",
    "where `scipy.sparse` matrices can be useful, in that they are\n",
    "much more memory-efficient than numpy arrays."
   ]
  },
  {
   "cell_type": "markdown",
   "metadata": {},
   "source": [
    "## Example: Pain\n",
    "\n",
    "Let's begin preparing our pain data for machine learning algorithms."
   ]
  },
  {
   "cell_type": "code",
   "execution_count": 38,
   "metadata": {
    "collapsed": true,
    "slideshow": {
     "slide_type": "-"
    }
   },
   "outputs": [],
   "source": [
    "# import libraries\n",
    "import pandas as pd\n",
    "import numpy as np\n",
    "import seaborn as sns\n",
    "import matplotlib.pyplot as plt"
   ]
  },
  {
   "cell_type": "code",
   "execution_count": 2,
   "metadata": {
    "collapsed": true
   },
   "outputs": [],
   "source": [
    "# load data\n",
    "patients = pd.read_csv('./data/patients.csv')\n",
    "conditions = pd.read_csv('./data/conditions.csv')"
   ]
  },
  {
   "cell_type": "code",
   "execution_count": 3,
   "metadata": {},
   "outputs": [
    {
     "name": "stdout",
     "output_type": "stream",
     "text": [
      "(3408, 10)\n"
     ]
    },
    {
     "data": {
      "text/html": [
       "<div>\n",
       "<style scoped>\n",
       "    .dataframe tbody tr th:only-of-type {\n",
       "        vertical-align: middle;\n",
       "    }\n",
       "\n",
       "    .dataframe tbody tr th {\n",
       "        vertical-align: top;\n",
       "    }\n",
       "\n",
       "    .dataframe thead th {\n",
       "        text-align: right;\n",
       "    }\n",
       "</style>\n",
       "<table border=\"1\" class=\"dataframe\">\n",
       "  <thead>\n",
       "    <tr style=\"text-align: right;\">\n",
       "      <th></th>\n",
       "      <th>ID</th>\n",
       "      <th>BIRTHDATE</th>\n",
       "      <th>DEATHDATE</th>\n",
       "      <th>SSN</th>\n",
       "      <th>FIRST</th>\n",
       "      <th>LAST</th>\n",
       "      <th>MARITAL</th>\n",
       "      <th>RACE</th>\n",
       "      <th>ETHNICITY</th>\n",
       "      <th>GENDER</th>\n",
       "    </tr>\n",
       "  </thead>\n",
       "  <tbody>\n",
       "    <tr>\n",
       "      <th>0</th>\n",
       "      <td>36d5e8c0-550b-42ba-993e-354614d9c625</td>\n",
       "      <td>2002-05-28</td>\n",
       "      <td>NaN</td>\n",
       "      <td>999-47-5418</td>\n",
       "      <td>Azzie965</td>\n",
       "      <td>Kub800</td>\n",
       "      <td>NaN</td>\n",
       "      <td>white</td>\n",
       "      <td>portuguese</td>\n",
       "      <td>F</td>\n",
       "    </tr>\n",
       "    <tr>\n",
       "      <th>1</th>\n",
       "      <td>66ade340-9e0e-4b4e-b5b5-b049c26424e2</td>\n",
       "      <td>2009-04-21</td>\n",
       "      <td>NaN</td>\n",
       "      <td>999-83-3779</td>\n",
       "      <td>Joslyn677</td>\n",
       "      <td>Stark857</td>\n",
       "      <td>NaN</td>\n",
       "      <td>white</td>\n",
       "      <td>portuguese</td>\n",
       "      <td>F</td>\n",
       "    </tr>\n",
       "    <tr>\n",
       "      <th>2</th>\n",
       "      <td>be7bf9b7-b4dc-4e23-a240-56637ed319d8</td>\n",
       "      <td>2003-12-09</td>\n",
       "      <td>NaN</td>\n",
       "      <td>999-94-4140</td>\n",
       "      <td>Malcom15</td>\n",
       "      <td>Runolfsdottir785</td>\n",
       "      <td>NaN</td>\n",
       "      <td>white</td>\n",
       "      <td>american</td>\n",
       "      <td>M</td>\n",
       "    </tr>\n",
       "    <tr>\n",
       "      <th>3</th>\n",
       "      <td>072cdfd2-3b90-4936-9790-36fe8b5db23e</td>\n",
       "      <td>2015-02-28</td>\n",
       "      <td>NaN</td>\n",
       "      <td>999-23-2922</td>\n",
       "      <td>Jamel269</td>\n",
       "      <td>Marquardt819</td>\n",
       "      <td>NaN</td>\n",
       "      <td>white</td>\n",
       "      <td>english</td>\n",
       "      <td>M</td>\n",
       "    </tr>\n",
       "    <tr>\n",
       "      <th>4</th>\n",
       "      <td>c54d517c-fd31-4e97-865a-da36470082f5</td>\n",
       "      <td>2014-04-09</td>\n",
       "      <td>NaN</td>\n",
       "      <td>999-88-4173</td>\n",
       "      <td>Shena75</td>\n",
       "      <td>Larkin917</td>\n",
       "      <td>NaN</td>\n",
       "      <td>white</td>\n",
       "      <td>swedish</td>\n",
       "      <td>F</td>\n",
       "    </tr>\n",
       "  </tbody>\n",
       "</table>\n",
       "</div>"
      ],
      "text/plain": [
       "                                     ID   BIRTHDATE DEATHDATE          SSN  \\\n",
       "0  36d5e8c0-550b-42ba-993e-354614d9c625  2002-05-28       NaN  999-47-5418   \n",
       "1  66ade340-9e0e-4b4e-b5b5-b049c26424e2  2009-04-21       NaN  999-83-3779   \n",
       "2  be7bf9b7-b4dc-4e23-a240-56637ed319d8  2003-12-09       NaN  999-94-4140   \n",
       "3  072cdfd2-3b90-4936-9790-36fe8b5db23e  2015-02-28       NaN  999-23-2922   \n",
       "4  c54d517c-fd31-4e97-865a-da36470082f5  2014-04-09       NaN  999-88-4173   \n",
       "\n",
       "       FIRST              LAST MARITAL   RACE   ETHNICITY GENDER  \n",
       "0   Azzie965            Kub800     NaN  white  portuguese      F  \n",
       "1  Joslyn677          Stark857     NaN  white  portuguese      F  \n",
       "2   Malcom15  Runolfsdottir785     NaN  white    american      M  \n",
       "3   Jamel269      Marquardt819     NaN  white     english      M  \n",
       "4    Shena75         Larkin917     NaN  white     swedish      F  "
      ]
     },
     "execution_count": 3,
     "metadata": {},
     "output_type": "execute_result"
    }
   ],
   "source": [
    "# make sure data \"look\" right\n",
    "patients = patients.drop(columns=['DRIVERS', 'PASSPORT', 'PREFIX', 'SUFFIX', 'MAIDEN', 'BIRTHPLACE', 'ADDRESS'])\n",
    "print(patients.shape)\n",
    "patients.head()"
   ]
  },
  {
   "cell_type": "code",
   "execution_count": 4,
   "metadata": {},
   "outputs": [
    {
     "name": "stdout",
     "output_type": "stream",
     "text": [
      "(7711, 6)\n"
     ]
    },
    {
     "data": {
      "text/html": [
       "<div>\n",
       "<style scoped>\n",
       "    .dataframe tbody tr th:only-of-type {\n",
       "        vertical-align: middle;\n",
       "    }\n",
       "\n",
       "    .dataframe tbody tr th {\n",
       "        vertical-align: top;\n",
       "    }\n",
       "\n",
       "    .dataframe thead th {\n",
       "        text-align: right;\n",
       "    }\n",
       "</style>\n",
       "<table border=\"1\" class=\"dataframe\">\n",
       "  <thead>\n",
       "    <tr style=\"text-align: right;\">\n",
       "      <th></th>\n",
       "      <th>START</th>\n",
       "      <th>STOP</th>\n",
       "      <th>ID</th>\n",
       "      <th>ENCOUNTER</th>\n",
       "      <th>CODE</th>\n",
       "      <th>DESCRIPTION</th>\n",
       "    </tr>\n",
       "  </thead>\n",
       "  <tbody>\n",
       "    <tr>\n",
       "      <th>0</th>\n",
       "      <td>2015-03-21</td>\n",
       "      <td>2015-04-18</td>\n",
       "      <td>66ade340-9e0e-4b4e-b5b5-b049c26424e2</td>\n",
       "      <td>36cddb0f-41a5-4259-a3d6-8673975d367e</td>\n",
       "      <td>403191005</td>\n",
       "      <td>Second degree burn</td>\n",
       "    </tr>\n",
       "    <tr>\n",
       "      <th>1</th>\n",
       "      <td>2015-03-30</td>\n",
       "      <td>2015-04-20</td>\n",
       "      <td>be7bf9b7-b4dc-4e23-a240-56637ed319d8</td>\n",
       "      <td>f198a864-1b0a-4346-bc57-008d75cb89e3</td>\n",
       "      <td>284551006</td>\n",
       "      <td>Laceration of foot</td>\n",
       "    </tr>\n",
       "    <tr>\n",
       "      <th>2</th>\n",
       "      <td>2016-05-15</td>\n",
       "      <td>2016-05-23</td>\n",
       "      <td>66ade340-9e0e-4b4e-b5b5-b049c26424e2</td>\n",
       "      <td>20b0fe0c-2837-4d10-bfaa-40b0cb877b2f</td>\n",
       "      <td>195662009</td>\n",
       "      <td>Acute viral pharyngitis (disorder)</td>\n",
       "    </tr>\n",
       "    <tr>\n",
       "      <th>3</th>\n",
       "      <td>2017-04-07</td>\n",
       "      <td>2017-04-21</td>\n",
       "      <td>66ade340-9e0e-4b4e-b5b5-b049c26424e2</td>\n",
       "      <td>b595c77a-e0c2-4bcd-a72e-ae512a890a23</td>\n",
       "      <td>44465007</td>\n",
       "      <td>Sprain of ankle</td>\n",
       "    </tr>\n",
       "    <tr>\n",
       "      <th>4</th>\n",
       "      <td>2017-11-29</td>\n",
       "      <td>2017-12-13</td>\n",
       "      <td>66ade340-9e0e-4b4e-b5b5-b049c26424e2</td>\n",
       "      <td>27a97684-b92b-4532-9359-015c673f5283</td>\n",
       "      <td>444814009</td>\n",
       "      <td>Viral sinusitis (disorder)</td>\n",
       "    </tr>\n",
       "  </tbody>\n",
       "</table>\n",
       "</div>"
      ],
      "text/plain": [
       "        START        STOP                                    ID  \\\n",
       "0  2015-03-21  2015-04-18  66ade340-9e0e-4b4e-b5b5-b049c26424e2   \n",
       "1  2015-03-30  2015-04-20  be7bf9b7-b4dc-4e23-a240-56637ed319d8   \n",
       "2  2016-05-15  2016-05-23  66ade340-9e0e-4b4e-b5b5-b049c26424e2   \n",
       "3  2017-04-07  2017-04-21  66ade340-9e0e-4b4e-b5b5-b049c26424e2   \n",
       "4  2017-11-29  2017-12-13  66ade340-9e0e-4b4e-b5b5-b049c26424e2   \n",
       "\n",
       "                              ENCOUNTER       CODE  \\\n",
       "0  36cddb0f-41a5-4259-a3d6-8673975d367e  403191005   \n",
       "1  f198a864-1b0a-4346-bc57-008d75cb89e3  284551006   \n",
       "2  20b0fe0c-2837-4d10-bfaa-40b0cb877b2f  195662009   \n",
       "3  b595c77a-e0c2-4bcd-a72e-ae512a890a23   44465007   \n",
       "4  27a97684-b92b-4532-9359-015c673f5283  444814009   \n",
       "\n",
       "                          DESCRIPTION  \n",
       "0                  Second degree burn  \n",
       "1                  Laceration of foot  \n",
       "2  Acute viral pharyngitis (disorder)  \n",
       "3                     Sprain of ankle  \n",
       "4          Viral sinusitis (disorder)  "
      ]
     },
     "execution_count": 4,
     "metadata": {},
     "output_type": "execute_result"
    }
   ],
   "source": [
    "# rename PATIENT to ID to match other table\n",
    "conditions = conditions.rename(columns={\"PATIENT\": \"ID\"})\n",
    "\n",
    "print(conditions.shape)\n",
    "conditions.head()"
   ]
  },
  {
   "cell_type": "code",
   "execution_count": 5,
   "metadata": {},
   "outputs": [
    {
     "name": "stdout",
     "output_type": "stream",
     "text": [
      "(7711, 15)\n"
     ]
    },
    {
     "data": {
      "text/html": [
       "<div>\n",
       "<style scoped>\n",
       "    .dataframe tbody tr th:only-of-type {\n",
       "        vertical-align: middle;\n",
       "    }\n",
       "\n",
       "    .dataframe tbody tr th {\n",
       "        vertical-align: top;\n",
       "    }\n",
       "\n",
       "    .dataframe thead th {\n",
       "        text-align: right;\n",
       "    }\n",
       "</style>\n",
       "<table border=\"1\" class=\"dataframe\">\n",
       "  <thead>\n",
       "    <tr style=\"text-align: right;\">\n",
       "      <th></th>\n",
       "      <th>ID</th>\n",
       "      <th>BIRTHDATE</th>\n",
       "      <th>DEATHDATE</th>\n",
       "      <th>SSN</th>\n",
       "      <th>FIRST</th>\n",
       "      <th>LAST</th>\n",
       "      <th>MARITAL</th>\n",
       "      <th>RACE</th>\n",
       "      <th>ETHNICITY</th>\n",
       "      <th>GENDER</th>\n",
       "      <th>START</th>\n",
       "      <th>STOP</th>\n",
       "      <th>ENCOUNTER</th>\n",
       "      <th>CODE</th>\n",
       "      <th>DESCRIPTION</th>\n",
       "    </tr>\n",
       "  </thead>\n",
       "  <tbody>\n",
       "    <tr>\n",
       "      <th>0</th>\n",
       "      <td>66ade340-9e0e-4b4e-b5b5-b049c26424e2</td>\n",
       "      <td>2009-04-21</td>\n",
       "      <td>NaN</td>\n",
       "      <td>999-83-3779</td>\n",
       "      <td>Joslyn677</td>\n",
       "      <td>Stark857</td>\n",
       "      <td>NaN</td>\n",
       "      <td>white</td>\n",
       "      <td>portuguese</td>\n",
       "      <td>F</td>\n",
       "      <td>2015-03-21</td>\n",
       "      <td>2015-04-18</td>\n",
       "      <td>36cddb0f-41a5-4259-a3d6-8673975d367e</td>\n",
       "      <td>403191005</td>\n",
       "      <td>Second degree burn</td>\n",
       "    </tr>\n",
       "    <tr>\n",
       "      <th>1</th>\n",
       "      <td>66ade340-9e0e-4b4e-b5b5-b049c26424e2</td>\n",
       "      <td>2009-04-21</td>\n",
       "      <td>NaN</td>\n",
       "      <td>999-83-3779</td>\n",
       "      <td>Joslyn677</td>\n",
       "      <td>Stark857</td>\n",
       "      <td>NaN</td>\n",
       "      <td>white</td>\n",
       "      <td>portuguese</td>\n",
       "      <td>F</td>\n",
       "      <td>2016-05-15</td>\n",
       "      <td>2016-05-23</td>\n",
       "      <td>20b0fe0c-2837-4d10-bfaa-40b0cb877b2f</td>\n",
       "      <td>195662009</td>\n",
       "      <td>Acute viral pharyngitis (disorder)</td>\n",
       "    </tr>\n",
       "    <tr>\n",
       "      <th>2</th>\n",
       "      <td>66ade340-9e0e-4b4e-b5b5-b049c26424e2</td>\n",
       "      <td>2009-04-21</td>\n",
       "      <td>NaN</td>\n",
       "      <td>999-83-3779</td>\n",
       "      <td>Joslyn677</td>\n",
       "      <td>Stark857</td>\n",
       "      <td>NaN</td>\n",
       "      <td>white</td>\n",
       "      <td>portuguese</td>\n",
       "      <td>F</td>\n",
       "      <td>2017-04-07</td>\n",
       "      <td>2017-04-21</td>\n",
       "      <td>b595c77a-e0c2-4bcd-a72e-ae512a890a23</td>\n",
       "      <td>44465007</td>\n",
       "      <td>Sprain of ankle</td>\n",
       "    </tr>\n",
       "    <tr>\n",
       "      <th>3</th>\n",
       "      <td>66ade340-9e0e-4b4e-b5b5-b049c26424e2</td>\n",
       "      <td>2009-04-21</td>\n",
       "      <td>NaN</td>\n",
       "      <td>999-83-3779</td>\n",
       "      <td>Joslyn677</td>\n",
       "      <td>Stark857</td>\n",
       "      <td>NaN</td>\n",
       "      <td>white</td>\n",
       "      <td>portuguese</td>\n",
       "      <td>F</td>\n",
       "      <td>2017-11-29</td>\n",
       "      <td>2017-12-13</td>\n",
       "      <td>27a97684-b92b-4532-9359-015c673f5283</td>\n",
       "      <td>444814009</td>\n",
       "      <td>Viral sinusitis (disorder)</td>\n",
       "    </tr>\n",
       "    <tr>\n",
       "      <th>4</th>\n",
       "      <td>be7bf9b7-b4dc-4e23-a240-56637ed319d8</td>\n",
       "      <td>2003-12-09</td>\n",
       "      <td>NaN</td>\n",
       "      <td>999-94-4140</td>\n",
       "      <td>Malcom15</td>\n",
       "      <td>Runolfsdottir785</td>\n",
       "      <td>NaN</td>\n",
       "      <td>white</td>\n",
       "      <td>american</td>\n",
       "      <td>M</td>\n",
       "      <td>2015-03-30</td>\n",
       "      <td>2015-04-20</td>\n",
       "      <td>f198a864-1b0a-4346-bc57-008d75cb89e3</td>\n",
       "      <td>284551006</td>\n",
       "      <td>Laceration of foot</td>\n",
       "    </tr>\n",
       "  </tbody>\n",
       "</table>\n",
       "</div>"
      ],
      "text/plain": [
       "                                     ID   BIRTHDATE DEATHDATE          SSN  \\\n",
       "0  66ade340-9e0e-4b4e-b5b5-b049c26424e2  2009-04-21       NaN  999-83-3779   \n",
       "1  66ade340-9e0e-4b4e-b5b5-b049c26424e2  2009-04-21       NaN  999-83-3779   \n",
       "2  66ade340-9e0e-4b4e-b5b5-b049c26424e2  2009-04-21       NaN  999-83-3779   \n",
       "3  66ade340-9e0e-4b4e-b5b5-b049c26424e2  2009-04-21       NaN  999-83-3779   \n",
       "4  be7bf9b7-b4dc-4e23-a240-56637ed319d8  2003-12-09       NaN  999-94-4140   \n",
       "\n",
       "       FIRST              LAST MARITAL   RACE   ETHNICITY GENDER       START  \\\n",
       "0  Joslyn677          Stark857     NaN  white  portuguese      F  2015-03-21   \n",
       "1  Joslyn677          Stark857     NaN  white  portuguese      F  2016-05-15   \n",
       "2  Joslyn677          Stark857     NaN  white  portuguese      F  2017-04-07   \n",
       "3  Joslyn677          Stark857     NaN  white  portuguese      F  2017-11-29   \n",
       "4   Malcom15  Runolfsdottir785     NaN  white    american      M  2015-03-30   \n",
       "\n",
       "         STOP                             ENCOUNTER       CODE  \\\n",
       "0  2015-04-18  36cddb0f-41a5-4259-a3d6-8673975d367e  403191005   \n",
       "1  2016-05-23  20b0fe0c-2837-4d10-bfaa-40b0cb877b2f  195662009   \n",
       "2  2017-04-21  b595c77a-e0c2-4bcd-a72e-ae512a890a23   44465007   \n",
       "3  2017-12-13  27a97684-b92b-4532-9359-015c673f5283  444814009   \n",
       "4  2015-04-20  f198a864-1b0a-4346-bc57-008d75cb89e3  284551006   \n",
       "\n",
       "                          DESCRIPTION  \n",
       "0                  Second degree burn  \n",
       "1  Acute viral pharyngitis (disorder)  \n",
       "2                     Sprain of ankle  \n",
       "3          Viral sinusitis (disorder)  \n",
       "4                  Laceration of foot  "
      ]
     },
     "execution_count": 5,
     "metadata": {},
     "output_type": "execute_result"
    }
   ],
   "source": [
    "# merge datasets\n",
    "df = patients.merge(conditions, how='inner', on='ID')\n",
    "print(df.shape)\n",
    "df.head()"
   ]
  },
  {
   "cell_type": "code",
   "execution_count": 6,
   "metadata": {},
   "outputs": [
    {
     "data": {
      "text/html": [
       "<div>\n",
       "<style scoped>\n",
       "    .dataframe tbody tr th:only-of-type {\n",
       "        vertical-align: middle;\n",
       "    }\n",
       "\n",
       "    .dataframe tbody tr th {\n",
       "        vertical-align: top;\n",
       "    }\n",
       "\n",
       "    .dataframe thead th {\n",
       "        text-align: right;\n",
       "    }\n",
       "</style>\n",
       "<table border=\"1\" class=\"dataframe\">\n",
       "  <thead>\n",
       "    <tr style=\"text-align: right;\">\n",
       "      <th></th>\n",
       "      <th>id</th>\n",
       "      <th>birthdate</th>\n",
       "      <th>deathdate</th>\n",
       "      <th>ssn</th>\n",
       "      <th>first</th>\n",
       "      <th>last</th>\n",
       "      <th>marital</th>\n",
       "      <th>race</th>\n",
       "      <th>ethnicity</th>\n",
       "      <th>gender</th>\n",
       "      <th>start</th>\n",
       "      <th>stop</th>\n",
       "      <th>encounter</th>\n",
       "      <th>code</th>\n",
       "      <th>description</th>\n",
       "      <th>age</th>\n",
       "    </tr>\n",
       "  </thead>\n",
       "  <tbody>\n",
       "    <tr>\n",
       "      <th>0</th>\n",
       "      <td>66ade340-9e0e-4b4e-b5b5-b049c26424e2</td>\n",
       "      <td>2009-04-21</td>\n",
       "      <td>NaN</td>\n",
       "      <td>999-83-3779</td>\n",
       "      <td>Joslyn677</td>\n",
       "      <td>Stark857</td>\n",
       "      <td>NaN</td>\n",
       "      <td>white</td>\n",
       "      <td>portuguese</td>\n",
       "      <td>F</td>\n",
       "      <td>2015-03-21</td>\n",
       "      <td>2015-04-18</td>\n",
       "      <td>36cddb0f-41a5-4259-a3d6-8673975d367e</td>\n",
       "      <td>403191005</td>\n",
       "      <td>Second degree burn</td>\n",
       "      <td>2160 days</td>\n",
       "    </tr>\n",
       "    <tr>\n",
       "      <th>1</th>\n",
       "      <td>66ade340-9e0e-4b4e-b5b5-b049c26424e2</td>\n",
       "      <td>2009-04-21</td>\n",
       "      <td>NaN</td>\n",
       "      <td>999-83-3779</td>\n",
       "      <td>Joslyn677</td>\n",
       "      <td>Stark857</td>\n",
       "      <td>NaN</td>\n",
       "      <td>white</td>\n",
       "      <td>portuguese</td>\n",
       "      <td>F</td>\n",
       "      <td>2016-05-15</td>\n",
       "      <td>2016-05-23</td>\n",
       "      <td>20b0fe0c-2837-4d10-bfaa-40b0cb877b2f</td>\n",
       "      <td>195662009</td>\n",
       "      <td>Acute viral pharyngitis (disorder)</td>\n",
       "      <td>2581 days</td>\n",
       "    </tr>\n",
       "    <tr>\n",
       "      <th>2</th>\n",
       "      <td>66ade340-9e0e-4b4e-b5b5-b049c26424e2</td>\n",
       "      <td>2009-04-21</td>\n",
       "      <td>NaN</td>\n",
       "      <td>999-83-3779</td>\n",
       "      <td>Joslyn677</td>\n",
       "      <td>Stark857</td>\n",
       "      <td>NaN</td>\n",
       "      <td>white</td>\n",
       "      <td>portuguese</td>\n",
       "      <td>F</td>\n",
       "      <td>2017-04-07</td>\n",
       "      <td>2017-04-21</td>\n",
       "      <td>b595c77a-e0c2-4bcd-a72e-ae512a890a23</td>\n",
       "      <td>44465007</td>\n",
       "      <td>Sprain of ankle</td>\n",
       "      <td>2908 days</td>\n",
       "    </tr>\n",
       "    <tr>\n",
       "      <th>3</th>\n",
       "      <td>66ade340-9e0e-4b4e-b5b5-b049c26424e2</td>\n",
       "      <td>2009-04-21</td>\n",
       "      <td>NaN</td>\n",
       "      <td>999-83-3779</td>\n",
       "      <td>Joslyn677</td>\n",
       "      <td>Stark857</td>\n",
       "      <td>NaN</td>\n",
       "      <td>white</td>\n",
       "      <td>portuguese</td>\n",
       "      <td>F</td>\n",
       "      <td>2017-11-29</td>\n",
       "      <td>2017-12-13</td>\n",
       "      <td>27a97684-b92b-4532-9359-015c673f5283</td>\n",
       "      <td>444814009</td>\n",
       "      <td>Viral sinusitis (disorder)</td>\n",
       "      <td>3144 days</td>\n",
       "    </tr>\n",
       "    <tr>\n",
       "      <th>4</th>\n",
       "      <td>be7bf9b7-b4dc-4e23-a240-56637ed319d8</td>\n",
       "      <td>2003-12-09</td>\n",
       "      <td>NaN</td>\n",
       "      <td>999-94-4140</td>\n",
       "      <td>Malcom15</td>\n",
       "      <td>Runolfsdottir785</td>\n",
       "      <td>NaN</td>\n",
       "      <td>white</td>\n",
       "      <td>american</td>\n",
       "      <td>M</td>\n",
       "      <td>2015-03-30</td>\n",
       "      <td>2015-04-20</td>\n",
       "      <td>f198a864-1b0a-4346-bc57-008d75cb89e3</td>\n",
       "      <td>284551006</td>\n",
       "      <td>Laceration of foot</td>\n",
       "      <td>4129 days</td>\n",
       "    </tr>\n",
       "  </tbody>\n",
       "</table>\n",
       "</div>"
      ],
      "text/plain": [
       "                                     id  birthdate deathdate          ssn  \\\n",
       "0  66ade340-9e0e-4b4e-b5b5-b049c26424e2 2009-04-21       NaN  999-83-3779   \n",
       "1  66ade340-9e0e-4b4e-b5b5-b049c26424e2 2009-04-21       NaN  999-83-3779   \n",
       "2  66ade340-9e0e-4b4e-b5b5-b049c26424e2 2009-04-21       NaN  999-83-3779   \n",
       "3  66ade340-9e0e-4b4e-b5b5-b049c26424e2 2009-04-21       NaN  999-83-3779   \n",
       "4  be7bf9b7-b4dc-4e23-a240-56637ed319d8 2003-12-09       NaN  999-94-4140   \n",
       "\n",
       "       first              last marital   race   ethnicity gender      start  \\\n",
       "0  Joslyn677          Stark857     NaN  white  portuguese      F 2015-03-21   \n",
       "1  Joslyn677          Stark857     NaN  white  portuguese      F 2016-05-15   \n",
       "2  Joslyn677          Stark857     NaN  white  portuguese      F 2017-04-07   \n",
       "3  Joslyn677          Stark857     NaN  white  portuguese      F 2017-11-29   \n",
       "4   Malcom15  Runolfsdottir785     NaN  white    american      M 2015-03-30   \n",
       "\n",
       "         stop                             encounter       code  \\\n",
       "0  2015-04-18  36cddb0f-41a5-4259-a3d6-8673975d367e  403191005   \n",
       "1  2016-05-23  20b0fe0c-2837-4d10-bfaa-40b0cb877b2f  195662009   \n",
       "2  2017-04-21  b595c77a-e0c2-4bcd-a72e-ae512a890a23   44465007   \n",
       "3  2017-12-13  27a97684-b92b-4532-9359-015c673f5283  444814009   \n",
       "4  2015-04-20  f198a864-1b0a-4346-bc57-008d75cb89e3  284551006   \n",
       "\n",
       "                          description       age  \n",
       "0                  Second degree burn 2160 days  \n",
       "1  Acute viral pharyngitis (disorder) 2581 days  \n",
       "2                     Sprain of ankle 2908 days  \n",
       "3          Viral sinusitis (disorder) 3144 days  \n",
       "4                  Laceration of foot 4129 days  "
      ]
     },
     "execution_count": 6,
     "metadata": {},
     "output_type": "execute_result"
    }
   ],
   "source": [
    "# make all columns lowercase for ease\n",
    "df.columns = [x.lower() for x in df.columns]\n",
    "\n",
    "# add age\n",
    "df['start'] = pd.to_datetime(df['start'])\n",
    "df['birthdate'] = pd.to_datetime(df['birthdate'])\n",
    "df['age'] = df['start'] - df['birthdate']\n",
    "df.head()"
   ]
  },
  {
   "cell_type": "code",
   "execution_count": 29,
   "metadata": {},
   "outputs": [
    {
     "data": {
      "text/plain": [
       "7"
      ]
     },
     "execution_count": 29,
     "metadata": {},
     "output_type": "execute_result"
    }
   ],
   "source": [
    "df['overdose'] = np.where(df['description']=='Drug overdose', 1, 0)\n",
    "np.sum(df['overdose'])\n",
    "## too few cases at this time"
   ]
  },
  {
   "cell_type": "code",
   "execution_count": 30,
   "metadata": {},
   "outputs": [
    {
     "data": {
      "text/plain": [
       "array(['Acute allergic reaction', 'Acute bacterial sinusitis (disorder)',\n",
       "       'Acute bronchitis (disorder)', 'Acute viral pharyngitis (disorder)',\n",
       "       \"Alzheimer's disease (disorder)\", 'Antepartum eclampsia',\n",
       "       'Appendicitis', 'Asthma', 'Atopic dermatitis',\n",
       "       'Atrial Fibrillation', 'Bleeding from anus', 'Blighted ovum',\n",
       "       'Blindness due to type 2 diabetes mellitus (disorder)',\n",
       "       'Bullet wound', 'Burn injury(morphologic abnormality)',\n",
       "       'Cardiac Arrest', 'Child attention deficit disorder',\n",
       "       'Childhood asthma', 'Chronic intractable migraine without aura',\n",
       "       'Chronic obstructive bronchitis (disorder)', 'Chronic pain',\n",
       "       'Chronic sinusitis (disorder)', 'Closed fracture of hip',\n",
       "       'Concussion injury of brain',\n",
       "       'Concussion with loss of consciousness',\n",
       "       'Concussion with no loss of consciousness',\n",
       "       'Congenital uterine anomaly', 'Contact dermatitis',\n",
       "       'Coronary Heart Disease', 'Cystitis', 'Diabetes',\n",
       "       'Diabetic renal disease (disorder)',\n",
       "       'Diabetic retinopathy associated with type II diabetes mellitus (disorder)',\n",
       "       'Drug overdose', 'Epilepsy',\n",
       "       'Escherichia coli urinary tract infection', 'Facial laceration',\n",
       "       \"Familial Alzheimer's disease of early onset (disorder)\",\n",
       "       'Fetus with chromosomal abnormality',\n",
       "       'Fetus with unknown complication', 'First degree burn',\n",
       "       'Fracture of ankle', 'Fracture of clavicle', 'Fracture of forearm',\n",
       "       'Fracture of rib',\n",
       "       'Fracture of the vertebral column with spinal cord injury',\n",
       "       'Fracture of vertebral column without spinal cord injury',\n",
       "       'Fracture subluxation of wrist', 'Gout', 'History of appendectomy',\n",
       "       'History of cardiac arrest (situation)',\n",
       "       'History of myocardial infarction (situation)',\n",
       "       'History of single seizure (situation)', 'Hypertension',\n",
       "       'Impacted molars', 'Injury of anterior cruciate ligament',\n",
       "       'Injury of medial collateral ligament of knee',\n",
       "       'Injury of tendon of the rotator cuff of shoulder',\n",
       "       'Laceration of foot', 'Laceration of forearm', 'Laceration of hand',\n",
       "       'Laceration of thigh',\n",
       "       'Localized  primary osteoarthritis of the hand',\n",
       "       'Macular edema and retinopathy due to type 2 diabetes mellitus (disorder)',\n",
       "       'Malignant tumor of colon',\n",
       "       'Microalbuminuria due to type 2 diabetes mellitus (disorder)',\n",
       "       'Miscarriage in first trimester', 'Miscarriage in second trimester',\n",
       "       'Myocardial Infarction',\n",
       "       'Neuropathy due to type 2 diabetes mellitus (disorder)',\n",
       "       'Non-low risk pregnancy',\n",
       "       'Non-small cell carcinoma of lung  TNM stage 1 (disorder)',\n",
       "       'Non-small cell lung cancer (disorder)',\n",
       "       'Nonproliferative diabetic retinopathy due to type 2 diabetes mellitus (disorder)',\n",
       "       'Normal pregnancy', 'Osteoarthritis of hip',\n",
       "       'Osteoarthritis of knee', 'Osteoporosis (disorder)', 'Otitis media',\n",
       "       'Overlapping malignant neoplasm of colon',\n",
       "       'Pathological fracture due to osteoporosis (disorder)',\n",
       "       'Perennial allergic rhinitis',\n",
       "       'Perennial allergic rhinitis with seasonal variation', 'Pneumonia',\n",
       "       'Polyp of colon', 'Prediabetes', 'Preeclampsia',\n",
       "       'Primary malignant neoplasm of colon',\n",
       "       'Proliferative diabetic retinopathy due to type II diabetes mellitus (disorder)',\n",
       "       'Proteinuria due to type 2 diabetes mellitus (disorder)',\n",
       "       'Protracted diarrhea', 'Pulmonary emphysema (disorder)',\n",
       "       'Pyelonephritis', 'Recurrent rectal polyp',\n",
       "       'Recurrent urinary tract infection', 'Rupture of appendix',\n",
       "       'Rupture of patellar tendon', 'Seasonal allergic rhinitis',\n",
       "       'Second degree burn', 'Secondary malignant neoplasm of colon',\n",
       "       'Seizure disorder', 'Sinusitis (disorder)', 'Sprain of ankle',\n",
       "       'Sprain of wrist', 'Streptococcal sore throat (disorder)', 'Stroke',\n",
       "       'Suspected lung cancer (situation)', 'Tear of meniscus of knee',\n",
       "       'Third degree burn', 'Tubal pregnancy',\n",
       "       'Viral sinusitis (disorder)', 'Whiplash injury to neck'], dtype=object)"
      ]
     },
     "execution_count": 30,
     "metadata": {},
     "output_type": "execute_result"
    }
   ],
   "source": [
    "# other conditions\n",
    "np.unique(df['description'])"
   ]
  },
  {
   "cell_type": "code",
   "execution_count": 33,
   "metadata": {},
   "outputs": [],
   "source": [
    "np.sum(df['description']=='Hypertension')\n",
    "df['htn'] = np.where(df['description']=='Hypertension', 1, 0)"
   ]
  },
  {
   "cell_type": "code",
   "execution_count": 34,
   "metadata": {},
   "outputs": [],
   "source": [
    "from sklearn.model_selection import train_test_split\n",
    "train, test = train_test_split(df, test_size=0.25, random_state=123)\n",
    "\n",
    "# coerce categorical and binary values\n",
    "from sklearn import preprocessing\n",
    "train_encoded = train[['race', 'gender', 'htn']]\n",
    "train_encoded = train_encoded.apply(preprocessing.LabelEncoder().fit_transform)\n",
    "test_encoded = test[['race', 'gender', 'htn']]\n",
    "test_encoded = test_encoded.apply(preprocessing.LabelEncoder().fit_transform)\n",
    "\n",
    "X_train = train_encoded[['race', 'gender']].as_matrix()\n",
    "y_train = train_encoded['htn'].as_matrix()\n",
    "X_test = test_encoded[['race', 'gender']].as_matrix()\n",
    "y_test = test_encoded['htn'].as_matrix()"
   ]
  },
  {
   "cell_type": "code",
   "execution_count": 35,
   "metadata": {
    "collapsed": true
   },
   "outputs": [],
   "source": [
    "from sklearn import model_selection\n",
    "from sklearn.linear_model import LogisticRegression\n",
    "from sklearn.tree import DecisionTreeClassifier\n",
    "from sklearn.neighbors import KNeighborsClassifier\n",
    "from sklearn.discriminant_analysis import LinearDiscriminantAnalysis\n",
    "from sklearn.naive_bayes import GaussianNB\n",
    "from sklearn.svm import SVC\n",
    "from sklearn.ensemble import RandomForestClassifier"
   ]
  },
  {
   "cell_type": "code",
   "execution_count": 36,
   "metadata": {},
   "outputs": [
    {
     "name": "stdout",
     "output_type": "stream",
     "text": [
      "LR: 0.521677 (0.140422)\n",
      "LDA: 0.521677 (0.140422)\n",
      "KNN: 0.499214 (0.066534)\n",
      "CART: 0.487658 (0.138089)\n",
      "NB: 0.512026 (0.151214)\n",
      "RF: 0.502803 (0.145645)\n"
     ]
    }
   ],
   "source": [
    "# prepare configuration for cross validation test harness \n",
    "# (from https://machinelearningmastery.com/compare-machine-learning-algorithms-python-scikit-learn/)\n",
    "seed = 123\n",
    "# prepare models\n",
    "models = []\n",
    "models.append(('LR', LogisticRegression(class_weight='balanced')))\n",
    "models.append(('LDA', LinearDiscriminantAnalysis()))\n",
    "models.append(('KNN', KNeighborsClassifier()))\n",
    "models.append(('CART', DecisionTreeClassifier()))\n",
    "models.append(('NB', GaussianNB()))\n",
    "#models.append(('SVM', SVC()))\n",
    "models.append(('RF', RandomForestClassifier(n_estimators=100, class_weight='balanced')))\n",
    "# evaluate each model in turn\n",
    "results = []\n",
    "names = []\n",
    "#scoring = 'accuracy'\n",
    "scoring = 'roc_auc' # others include: 'accuracy', 'f1', 'roc_auc', \n",
    "                    # or found here: http://scikit-learn.org/stable/modules/model_evaluation.html\n",
    "for name, model in models:\n",
    "    kfold = model_selection.KFold(n_splits=10, random_state=seed)\n",
    "    cv_results = model_selection.cross_val_score(model, X_train, y_train, cv=kfold, scoring=scoring)\n",
    "    results.append(cv_results)\n",
    "    names.append(name)\n",
    "    msg = \"%s: %f (%f)\" % (name, cv_results.mean(), cv_results.std())\n",
    "    print(msg)"
   ]
  },
  {
   "cell_type": "code",
   "execution_count": 39,
   "metadata": {},
   "outputs": [
    {
     "data": {
      "image/png": "[encoded data removed]",
      "text/plain": [
       "<Figure size 432x288 with 1 Axes>"
      ]
     },
     "metadata": {},
     "output_type": "display_data"
    }
   ],
   "source": [
    "# boxplot algorithm comparison\n",
    "fig = plt.figure()\n",
    "fig.suptitle('Algorithm Comparison')\n",
    "ax = fig.add_subplot(111)\n",
    "plt.boxplot(results)\n",
    "plt.ylabel(scoring)\n",
    "ax.set_xticklabels(names)\n",
    "plt.show()"
   ]
  },
  {
   "cell_type": "code",
   "execution_count": null,
   "metadata": {
    "collapsed": true
   },
   "outputs": [],
   "source": []
  },
  {
   "cell_type": "code",
   "execution_count": null,
   "metadata": {
    "collapsed": true
   },
   "outputs": [],
   "source": [
    "%matplotlib inline\n",
    "sns.pairplot(iris_df, hue='species', size=1.5);"
   ]
  },
  {
   "cell_type": "markdown",
   "metadata": {},
   "source": [
    "As an introductory application of machine learning methods, let's apply **principal components analysis** (PCA) to this dataset. Though we have 4 variables to work with, it appears that there is redundant information among them, so we might try to reduce the dimension of the problem, deriving a smaller number of latent variables that describe most of the overall variation in the dataset. For example, we might want 2 variables so that we can visualize differences among the species graphically.\n",
    "\n",
    "PCA is a transformation for identifying a set of latent variables corresponding to orthogonal components of variation. It locates a vector that describes an axis of largest variation in the hyperspace of the original variables. Then, conditional on the first vector, the algorithm picks out the next vector of maximum variation, but one which is orthogonal to the first component. It then identifies a third such orthogonal vector, and so on, up to the number of original variables in the dataset.\n",
    "\n",
    "Once we have this orthogonal set of variables, we can see if the smallest ones can be discarded without greatly reducing the amount of variation described by the remaining subset.\n",
    "\n",
    "In `scikit-learn`, this is a two-step process:\n",
    "\n",
    "- instantiate a `PCA` class, with appropriate hyperparameters\n",
    "- use the PCA instance to transform the original variables to PCA components"
   ]
  },
  {
   "cell_type": "code",
   "execution_count": null,
   "metadata": {
    "collapsed": true
   },
   "outputs": [],
   "source": [
    "from sklearn.decomposition import PCA\n",
    "\n",
    "pca = PCA(n_components=2, whiten=True).fit(iris.data)\n",
    "X_pca = pca.transform(iris.data)"
   ]
  },
  {
   "cell_type": "markdown",
   "metadata": {},
   "source": [
    "By convention, `scikit-learn` exposes values estimated or calculated by its methods as public attributes on the model itself, with names appended with an underscore.\n",
    "\n",
    "Inspecting the `explained_variance_ratio_` attribute for our model, we see that the first two components explain more than 97% of the variation in the dataset."
   ]
  },
  {
   "cell_type": "code",
   "execution_count": null,
   "metadata": {
    "collapsed": true
   },
   "outputs": [],
   "source": [
    "pca.explained_variance_ratio_"
   ]
  },
  {
   "cell_type": "code",
   "execution_count": null,
   "metadata": {
    "collapsed": true
   },
   "outputs": [],
   "source": [
    "iris_df['First Component'] = X_pca[:, 0]\n",
    "iris_df['Second Component'] = X_pca[:, 1]\n",
    "\n",
    "sns.lmplot('First Component', 'Second Component', \n",
    "           data=iris_df, \n",
    "           fit_reg=False, \n",
    "           hue=\"species\")"
   ]
  },
  {
   "cell_type": "markdown",
   "metadata": {},
   "source": [
    "## `scikit-learn` interface\n",
    "\n",
    "All objects within scikit-learn share a uniform common basic API consisting of three complementary interfaces: \n",
    "\n",
    "* **estimator** interface for building and ﬁtting models\n",
    "* **predictor** interface for making predictions\n",
    "* **transformer** interface for converting data.\n",
    "\n",
    "The estimator interface is at the core of the library. It deﬁnes instantiation mechanisms of objects and exposes a fit method for learning a model from training data. All supervised and unsupervised learning algorithms (*e.g.*, for classiﬁcation, regression or clustering) are oﬀered as objects implementing this interface. Machine learning tasks like feature extraction, feature selection or dimensionality reduction are also provided as estimators.\n",
    "\n",
    "The consistent interface across machine learning methods makes it easy to switch between different approaches without drastically changing the form of the data or the supporting code, making experimentation and prototyping fast and easy.\n",
    "\n",
    "Scikit-learn strives to have a uniform interface across all methods. For example, a typical **estimator** follows this template:"
   ]
  },
  {
   "cell_type": "code",
   "execution_count": null,
   "metadata": {
    "collapsed": true
   },
   "outputs": [],
   "source": [
    "class Estimator(object):\n",
    "  \n",
    "    def fit(self, X, y=None):\n",
    "        \"\"\"Fit model to data X (and y)\"\"\"\n",
    "        self.some_attribute = self.some_fitting_method(X, y)\n",
    "        return self\n",
    "            \n",
    "    def predict(self, X_test):\n",
    "        \"\"\"Make prediction based on passed features\"\"\"\n",
    "        pred = self.make_prediction(X_test)\n",
    "        return pred"
   ]
  },
  {
   "cell_type": "markdown",
   "metadata": {},
   "source": [
    "For a given scikit-learn **estimator** object named `model`, several methods are available. Irrespective of the type of **estimator**, there will be a `fit` method:\n",
    "\n",
    "- `model.fit` : fit training data. For supervised learning applications, this accepts two arguments: the data `X` and the labels `y` (e.g. `model.fit(X, y)`). For unsupervised learning applications, this accepts only a single argument, the data `X` (e.g. `model.fit(X)`).\n",
    "\n",
    "> During the fitting process, the state of the **estimator** is stored in attributes of the estimator instance named with a trailing underscore character (\\_). For example, the sequence of regression trees `sklearn.tree.DecisionTreeRegressor` is stored in `estimators_` attribute.\n",
    "\n",
    "The **predictor** interface extends the notion of an estimator by adding a `predict` method that takes an array `X_test` and produces predictions based on the learned parameters of the estimator. In the case of supervised learning estimators, this method typically returns the predicted labels or values computed by the model. Some unsupervised learning estimators may also implement the predict interface, such as k-means, where the predicted values are the cluster labels.\n",
    "\n",
    "**supervised estimators** are expected to have the following methods:\n",
    "\n",
    "- `model.predict` : given a trained model, predict the label of a new set of data. This method accepts one argument, the new data `X_new` (e.g. `model.predict(X_new)`), and returns the learned label for each object in the array.\n",
    "- `model.predict_proba` : For classification problems, some estimators also provide this method, which returns the probability that a new observation has each categorical label. In this case, the label with the highest probability is returned by `model.predict()`.\n",
    "- `model.score` : for classification or regression problems, most (all?) estimators implement a score method.  Scores are between 0 and 1, with a larger score indicating a better fit.\n",
    "\n",
    "Since it is common to modify or ﬁlter data before feeding it to a learning algorithm, some estimators in the library implement a **transformer** interface which deﬁnes a `transform` method. It takes as input some new data `X_test` and yields as output a transformed version. Preprocessing, feature selection, feature extraction and dimensionality reduction algorithms are all provided as transformers within the library.\n",
    "\n",
    "**unsupervised estimators** will always have these methods:\n",
    "\n",
    "- `model.transform` : given an unsupervised model, transform new data into the new basis. This also accepts one argument `X_new`, and returns the new representation of the data based on the unsupervised model.\n",
    "- `model.fit_transform` : some estimators implement this method, which more efficiently performs a fit and a transform on the same input data."
   ]
  },
  {
   "cell_type": "markdown",
   "metadata": {},
   "source": [
    "## Regression Analysis\n",
    "\n",
    "To demonstrate how `scikit-learn` is used, let's conduct a logistic regression analysis on a dataset for very low birth weight (VLBW) infants.\n",
    "\n",
    "Data on 671 infants with very low (less than 1600 grams) birth weight from 1981-87 were collected at Duke University Medical Center by [OShea *et al.* (1992)](http://www.ncbi.nlm.nih.gov/pubmed/1635885). Of interest is the relationship between the outcome intra-ventricular hemorrhage and the predictors birth weight, gestational age, presence of pneumothorax, mode of delivery, single vs. multiple birth, and whether the birth occurred at Duke or at another hospital with later transfer to Duke. A secular trend in the outcome is also of interest.\n",
    "\n",
    "The metadata for this dataset can be found [here](http://biostat.mc.vanderbilt.edu/wiki/pub/Main/DataSets/Cvlbw.html)."
   ]
  },
  {
   "cell_type": "code",
   "execution_count": null,
   "metadata": {
    "collapsed": true
   },
   "outputs": [],
   "source": [
    "vlbw = pd.read_csv(\"../data/vlbw.csv\", index_col=0)\n",
    "\n",
    "subset = vlbw[['ivh', 'gest', 'bwt', 'delivery', 'inout', \n",
    "               'pltct', 'lowph', 'pneumo', 'twn', 'apg1']].dropna()\n",
    "\n",
    "# Extract response variable\n",
    "y = subset.ivh.replace({'absent':0, 'possible':1, 'definite':1})\n",
    "\n",
    "# Standardize some variables\n",
    "X = subset[['gest', 'bwt', 'pltct', 'lowph']]\n",
    "X0 = (X - X.mean(axis=0)) / X.std(axis=0)\n",
    "\n",
    "# Recode some variables\n",
    "X0['csection'] = subset.delivery.replace({'vaginal':0, 'abdominal':1})\n",
    "X0['transported'] = subset.inout.replace({'born at Duke':0, 'transported':1})\n",
    "X0[['pneumo', 'twn', 'apg1']] = subset[['pneumo', 'twn','apg1']]\n",
    "X0.head()"
   ]
  },
  {
   "cell_type": "markdown",
   "metadata": {},
   "source": [
    "We split the data into a training set and a testing set. By default, 25% of the data is reserved for testing. This is the first of multiple ways that we will see to do this."
   ]
  },
  {
   "cell_type": "code",
   "execution_count": null,
   "metadata": {
    "collapsed": true
   },
   "outputs": [],
   "source": [
    "from sklearn.model_selection import train_test_split\n",
    "X_train, X_test, y_train, y_test = train_test_split(X0, y)"
   ]
  },
  {
   "cell_type": "markdown",
   "metadata": {},
   "source": [
    "The `LogisticRegression` model in scikit-learn employs a regularization coefficient `C`, which defaults to 1. The amount of regularization is lower with larger values of C.\n",
    "\n",
    "Regularization penalizes the values of regression coefficients, while smaller ones let the coefficients range widely. Scikit-learn includes two penalties: a **l2** penalty which penalizes the sum of the squares of the coefficients (the default), and a **l1** penalty which penalizes the sum of the absolute values.\n",
    "\n",
    "The reason for doing regularization is to let us to include more covariates than our data might otherwise allow. We only have a few coefficients, so we will set `C` to a large value."
   ]
  },
  {
   "cell_type": "code",
   "execution_count": null,
   "metadata": {
    "collapsed": true
   },
   "outputs": [],
   "source": [
    "from sklearn.linear_model import LogisticRegression\n",
    "\n",
    "lrmod = LogisticRegression(C=1000)\n",
    "lrmod"
   ]
  },
  {
   "cell_type": "markdown",
   "metadata": {},
   "source": [
    "The `__repr__` method of `scikit-learn` models prints out all of the hyperparameter values used when running the model. It is recommended to inspect these prior to running the model, as the can strongly influence the resulting estimates and predictions."
   ]
  },
  {
   "cell_type": "code",
   "execution_count": null,
   "metadata": {
    "collapsed": true
   },
   "outputs": [],
   "source": [
    "lrmod.fit(X_train, y_train)\n",
    "\n",
    "pred_train = lrmod.predict(X_train)\n",
    "pred_test = lrmod.predict(X_test)"
   ]
  },
  {
   "cell_type": "code",
   "execution_count": null,
   "metadata": {
    "collapsed": true
   },
   "outputs": [],
   "source": [
    "pd.crosstab(y_train, pred_train, \n",
    "            rownames=[\"Actual\"], colnames=[\"Predicted\"])"
   ]
  },
  {
   "cell_type": "code",
   "execution_count": null,
   "metadata": {
    "collapsed": true
   },
   "outputs": [],
   "source": [
    "pd.crosstab(y_test, pred_test, \n",
    "            rownames=[\"Actual\"], colnames=[\"Predicted\"])"
   ]
  },
  {
   "cell_type": "markdown",
   "metadata": {},
   "source": [
    "The regression coefficients can be inspected in the `coef_` attribute that the fitting procedure attached to the model object."
   ]
  },
  {
   "cell_type": "code",
   "execution_count": null,
   "metadata": {
    "collapsed": true
   },
   "outputs": [],
   "source": [
    "for name, value in zip(X0.columns, lrmod.coef_[0]):\n",
    "    print('{0}:\\t{1:.2f}'.format(name, value))"
   ]
  },
  {
   "cell_type": "markdown",
   "metadata": {},
   "source": [
    "`scikit-learn` does not calculate confidence intervals for the model coefficients, but we can bootstrap some in just a few lines of Python:"
   ]
  },
  {
   "cell_type": "code",
   "execution_count": null,
   "metadata": {
    "collapsed": true
   },
   "outputs": [],
   "source": [
    "n = 1000\n",
    "boot_samples = np.empty((n, len(lrmod.coef_[0])))\n",
    "\n",
    "for i in np.arange(n):\n",
    "    boot_ind = np.random.randint(0, len(X0), len(X0))\n",
    "    y_i, X_i = y.values[boot_ind], X0.values[boot_ind]\n",
    "    \n",
    "    lrmod_i = LogisticRegression(C=1000)\n",
    "    lrmod_i.fit(X_i, y_i)\n",
    "\n",
    "    boot_samples[i] = lrmod_i.coef_[0]"
   ]
  },
  {
   "cell_type": "code",
   "execution_count": null,
   "metadata": {
    "collapsed": true
   },
   "outputs": [],
   "source": [
    "boot_samples.sort(axis=0)"
   ]
  },
  {
   "cell_type": "code",
   "execution_count": null,
   "metadata": {
    "collapsed": true
   },
   "outputs": [],
   "source": [
    "boot_se = boot_samples[[25, 975], :].T"
   ]
  },
  {
   "cell_type": "code",
   "execution_count": null,
   "metadata": {
    "collapsed": true
   },
   "outputs": [],
   "source": [
    "import matplotlib.pyplot as plt\n",
    "\n",
    "coefs = lrmod.coef_[0]\n",
    "plt.plot(coefs, 'r.')\n",
    "for i in range(len(coefs)):\n",
    "    plt.errorbar(x=[i,i], y=boot_se[i], color='red')\n",
    "plt.xlim(-0.5, 8.5)\n",
    "plt.xticks(range(len(coefs)), X0.columns.values, rotation=45)\n",
    "plt.axhline(0, color='k', linestyle='--')"
   ]
  },
  {
   "cell_type": "markdown",
   "metadata": {},
   "source": [
    "---\n",
    "## References\n",
    "\n",
    "- [`scikit-learn` user's guide](http://scikit-learn.org/stable/user_guide.html)\n",
    "- Vanderplas, J. (2016) [Python Data Science Handbook: Essential Tools for Working with Data](http://shop.oreilly.com/product/0636920034919.do). O'Reilly Media."
   ]
  }
 ],
 "metadata": {
  "kernelspec": {
   "display_name": "Python 3",
   "language": "python",
   "name": "python3"
  },
  "language_info": {
   "codemirror_mode": {
    "name": "ipython",
    "version": 3
   },
   "file_extension": ".py",
   "mimetype": "text/x-python",
   "name": "python",
   "nbconvert_exporter": "python",
   "pygments_lexer": "ipython3",
   "version": "3.6.5"
  },
  "latex_envs": {
   "bibliofile": "biblio.bib",
   "cite_by": "apalike",
   "current_citInitial": 1,
   "eqLabelWithNumbers": true,
   "eqNumInitial": 0
  }
 },
 "nbformat": 4,
 "nbformat_minor": 1
}
